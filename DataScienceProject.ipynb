{
 "cells": [
  {
   "cell_type": "code",
   "execution_count": 2,
   "metadata": {},
   "outputs": [
    {
     "name": "stdout",
     "output_type": "stream",
     "text": [
      "              Movie     Genre  Viewer Age    Rating  Review Count  \\\n",
      "0             Glory     Drama          44  3.660703          3632   \n",
      "1           Titanic    Sci-Fi          59  1.949448           658   \n",
      "2             Joker  Thriller          34  5.108811          3322   \n",
      "3   The Dark Knight    Action          35  2.965964          1197   \n",
      "4             Glory  Thriller          48  4.748590          4332   \n",
      "5    Peaky blinders    Action          46  8.949522          3447   \n",
      "6          Avengers    Action          55  3.919105          2561   \n",
      "7             Glory  Thriller          51  2.098792          1844   \n",
      "8             Joker    Comedy          33  4.206681           709   \n",
      "9   The Dark Knight    Action          38  9.161456          2861   \n",
      "10          Titanic    Action          46  3.449190          1419   \n",
      "11            Joker  Thriller          12  6.829211          2036   \n",
      "12            Joker    Action          46  1.004683           196   \n",
      "13         Avengers    Action          48  4.173120          3269   \n",
      "14   The Green Mile  Thriller          58  3.743031          2961   \n",
      "15  The Dark Knight  Thriller          25  2.481903          1784   \n",
      "16         3 idiots    Sci-Fi          14  5.806805          1893   \n",
      "17            Joker    Comedy          12  5.363470           538   \n",
      "18   The Green Mile    Comedy          16  7.231924          3026   \n",
      "19         3 idiots    Action          37  3.424711          2009   \n",
      "20  The Dark Knight    Comedy          25  3.197130          2435   \n",
      "21        Inception    Action          50  2.514619          2969   \n",
      "22   Peaky blinders    Sci-Fi          38  2.968878          4786   \n",
      "23   The Green Mile  Thriller          20  6.022918          1852   \n",
      "24        Gladiator  Thriller          26  4.634526          4111   \n",
      "25        Inception  Thriller          26  1.584030          3419   \n",
      "26   Peaky blinders    Comedy          37  3.285239           312   \n",
      "27         Avengers    Sci-Fi          53  3.221885           673   \n",
      "28            Glory    Comedy          24  7.266738          1066   \n",
      "29          Titanic    Comedy          43  7.410435          3693   \n",
      "30        Gladiator    Sci-Fi          50  2.332782          2099   \n",
      "31         Avengers    Sci-Fi          43  9.979664          3773   \n",
      "32  The Dark Knight    Sci-Fi          15  3.401029          4598   \n",
      "33         Avengers    Sci-Fi          41  9.789535          3158   \n",
      "34            Glory  Thriller          48  4.699333          4140   \n",
      "35  The Dark Knight     Drama          34  1.297457          2106   \n",
      "36        Gladiator     Drama          50  4.105641          3220   \n",
      "37            Glory    Sci-Fi          56  6.709162          1732   \n",
      "38         3 idiots     Drama          26  7.126349          2305   \n",
      "39          Titanic     Drama          54  5.778411          1204   \n",
      "40        Gladiator    Sci-Fi          40  5.030048          4549   \n",
      "41         3 idiots     Drama          47  5.976038          3241   \n",
      "42   Peaky blinders    Comedy          24  6.334271          1746   \n",
      "43        Gladiator    Action          43  1.727680          4041   \n",
      "44   Peaky blinders    Action          18  4.326890          4773   \n",
      "45  The Dark Knight    Sci-Fi          33  3.179439          4732   \n",
      "46         3 idiots  Thriller          39  8.228258          1698   \n",
      "47          Titanic    Sci-Fi          13  5.232706          1495   \n",
      "48            Glory  Thriller          53  9.850808          4249   \n",
      "49            Joker    Action          56  4.589420          3973   \n",
      "\n",
      "   Review Sentiment Adjusted Rating          Age Group  \n",
      "0          Positive          1 star  Middle-aged Adult  \n",
      "1           Netural          0 star         Old Adults  \n",
      "2          Positive          2 star        Young Adult  \n",
      "3          Negative          1 star        Young Adult  \n",
      "4           Netural          2 star         Old Adults  \n",
      "5          Negative          4 star         Old Adults  \n",
      "6          Negative          1 star         Old Adults  \n",
      "7          Positive          1 star         Old Adults  \n",
      "8          Positive          2 star        Young Adult  \n",
      "9          Positive          4 star  Middle-aged Adult  \n",
      "10         Positive          1 star         Old Adults  \n",
      "11         Positive          3 star           Teenager  \n",
      "12          Netural          0 star         Old Adults  \n",
      "13         Negative          2 star         Old Adults  \n",
      "14         Negative          1 star         Old Adults  \n",
      "15         Negative          1 star        Young Adult  \n",
      "16         Negative          2 star           Teenager  \n",
      "17         Positive          2 star           Teenager  \n",
      "18         Negative          3 star           Teenager  \n",
      "19          Netural          1 star  Middle-aged Adult  \n",
      "20          Netural          1 star        Young Adult  \n",
      "21         Negative          1 star         Old Adults  \n",
      "22         Negative          1 star  Middle-aged Adult  \n",
      "23          Netural          3 star        Young Adult  \n",
      "24          Netural          2 star        Young Adult  \n",
      "25         Positive          0 star        Young Adult  \n",
      "26          Netural          1 star  Middle-aged Adult  \n",
      "27         Positive          1 star         Old Adults  \n",
      "28         Positive          3 star        Young Adult  \n",
      "29         Positive          3 star  Middle-aged Adult  \n",
      "30         Positive          1 star         Old Adults  \n",
      "31         Positive          4 star  Middle-aged Adult  \n",
      "32         Negative          1 star           Teenager  \n",
      "33          Netural          4 star  Middle-aged Adult  \n",
      "34         Positive          2 star         Old Adults  \n",
      "35          Netural          0 star        Young Adult  \n",
      "36          Netural          2 star         Old Adults  \n",
      "37         Positive          3 star         Old Adults  \n",
      "38         Negative          3 star        Young Adult  \n",
      "39         Positive          2 star         Old Adults  \n",
      "40         Negative          2 star  Middle-aged Adult  \n",
      "41          Netural          2 star         Old Adults  \n",
      "42         Negative          3 star        Young Adult  \n",
      "43         Negative          0 star  Middle-aged Adult  \n",
      "44         Negative          2 star           Teenager  \n",
      "45          Netural          1 star        Young Adult  \n",
      "46          Netural          4 star  Middle-aged Adult  \n",
      "47         Negative          2 star           Teenager  \n",
      "48         Negative          4 star         Old Adults  \n",
      "49         Positive          2 star         Old Adults  \n"
     ]
    }
   ],
   "source": [
    "import pandas as pd\n",
    "import numpy as np\n",
    "import matplotlib.pyplot as plt\n",
    "import seaborn as sns  \n",
    "\n",
    "np.random.seed(42)\n",
    "movies = [\"Inception\", \"3 idiots\", \"Avengers\", \"Titanic\", \"The Dark Knight\", \"The Green Mile\", \"Glory\", \"Joker\", \"Gladiator\", \"Peaky blinders\"]\n",
    "genres = [\"Sci-Fi\", \"Action\", \"Drama\", \"Thriller\", \"Comedy\"]\n",
    "sentiment =['Negative','Positive','Netural']\n",
    "\n",
    "data = {\n",
    "    \"Movie\": np.random.choice(movies, 50),\n",
    "    \"Genre\": np.random.choice(genres, 50),\n",
    "    \"Viewer Age\": np.random.randint(12, 60, 50),\n",
    "    \"Rating\": np.random.uniform(1, 10, 50),\n",
    "    \"Review Count\": np.random.randint(50, 5000, 50),\n",
    "    \"Review Sentiment\" : np.random.choice(sentiment,50)\n",
    "}\n",
    "\n",
    "df = pd.DataFrame(data)\n",
    "df[\"Adjusted Rating\"] = (df[\"Rating\"] / 2).astype(int).astype(str) + \" star\"\n",
    "def age_group(age):\n",
    "    if age <= 18:\n",
    "        return \"Teenager\"\n",
    "    elif age <= 35:\n",
    "        return \"Young Adult\"\n",
    "    elif age <= 45:\n",
    "        return \"Middle-aged Adult\"\n",
    "    else:\n",
    "        return \"Old Adults\"\n",
    "\n",
    "df[\"Age Group\"] = df[\"Viewer Age\"].apply(age_group)\n",
    "print(df)\n",
    "\n"
   ]
  },
  {
   "cell_type": "code",
   "execution_count": 14,
   "metadata": {},
   "outputs": [
    {
     "name": "stdout",
     "output_type": "stream",
     "text": [
      "\n",
      "Data Sample:\n",
      "             Movie     Genre  Viewer Age    Rating  Review Count  \\\n",
      "0            Glory     Drama          45  5.108811          3322   \n",
      "1          Titanic    Sci-Fi          35  2.965964          1197   \n",
      "2            Joker  Thriller          36  4.748590          4332   \n",
      "3  The Dark Knight    Action          49  8.949522          3447   \n",
      "4            Glory  Thriller          47  3.919105          2561   \n",
      "\n",
      "  Review Sentiment Adjusted Rating    Age Group  \n",
      "0         Positive          2 star        Adult  \n",
      "1         Negative          1 star  Young Adult  \n",
      "2          Netural          2 star        Adult  \n",
      "3         Negative          4 star        Adult  \n",
      "4         Negative          1 star        Adult  \n",
      "\n",
      "Summary Statistics:\n",
      "       Viewer Age     Rating  Review Count\n",
      "count   50.000000  50.000000     50.000000\n",
      "mean    37.800000   5.060026   2621.760000\n",
      "std     13.744015   2.398861   1322.398139\n",
      "min     13.000000   1.004683    196.000000\n",
      "25%     26.250000   3.237723   1735.500000\n",
      "50%     39.500000   4.666929   2711.000000\n",
      "75%     49.000000   6.799199   3631.500000\n",
      "max     59.000000   9.979664   4786.000000\n"
     ]
    }
   ],
   "source": [
    "\n",
    "print(\"\\nData Sample:\")\n",
    "print(df.head())\n",
    "print(\"\\nSummary Statistics:\")\n",
    "print(df.describe())"
   ]
  },
  {
   "cell_type": "code",
   "execution_count": 23,
   "metadata": {},
   "outputs": [
    {
     "data": {
      "text/plain": [
       "<function matplotlib.pyplot.show(close=None, block=None)>"
      ]
     },
     "execution_count": 23,
     "metadata": {},
     "output_type": "execute_result"
    },
    {
     "data": {
      "image/png": "[encoded data removed]",
      "text/plain": [
       "<Figure size 1000x300 with 1 Axes>"
      ]
     },
     "metadata": {},
     "output_type": "display_data"
    }
   ],
   "source": [
    "plt.figure(figsize=(10,3))\n",
    "sns.countplot(data=df, x=\"Review Sentiment\", width= 0.5)\n",
    "plt.title(\"Movie sentiment Distrubution\")\n",
    "plt.xlabel(\"Sentiment\")\n",
    "plt.ylabel(\"Count\")\n",
    "plt.show"
   ]
  },
  {
   "cell_type": "code",
   "execution_count": null,
   "metadata": {},
   "outputs": [],
   "source": [
    "\n",
    "plt.figure(figsize=(10, 6))\n",
    "sns.histplot(df[\"Rating\"], kde=True, bins=10, color=\"blue\")\n",
    "plt.title(\"Movie Rating Distribution\")\n",
    "plt.xlabel(\"Rating\")\n",
    "plt.ylabel(\"Count\")\n",
    "plt.show()"
   ]
  },
  {
   "cell_type": "code",
   "execution_count": 17,
   "metadata": {},
   "outputs": [
    {
     "name": "stdout",
     "output_type": "stream",
     "text": [
      "\n",
      "Top Rated Movies:\n",
      "Movie\n",
      "The Dark Knight    5.821755\n",
      "Glory              5.536299\n",
      "Peaky blinders     5.311041\n",
      "3 idiots           5.271016\n",
      "Avengers           5.037202\n",
      "Name: Rating, dtype: float64\n"
     ]
    }
   ],
   "source": [
    "\n",
    "top_rated = df.groupby(\"Movie\")[\"Rating\"].mean().sort_values(ascending=False) \n",
    "print(\"\\nTop Rated Movies:\")\n",
    "print(top_rated.head(5))\n",
    "\n",
    "top_rated_df = top_rated.head(5).reset_index()"
   ]
  },
  {
   "cell_type": "code",
   "execution_count": null,
   "metadata": {},
   "outputs": [],
   "source": [
    "\n",
    "plt.figure(figsize=(10, 5))\n",
    "sns.barplot(data=top_rated_df, x=\"Movie\", y=\"Rating\")  \n",
    "plt.title(\"Top 5 Highest Rated Movies\")\n",
    "plt.xlabel(\"Movie\")\n",
    "plt.ylabel(\"Average Rating\")\n",
    "plt.xticks(rotation=45)\n",
    "plt.show()"
   ]
  },
  {
   "cell_type": "code",
   "execution_count": null,
   "metadata": {},
   "outputs": [],
   "source": [
    "\n",
    "# Review Count by Genre\n",
    "plt.figure(figsize=(10, 5))\n",
    "df.groupby(\"Genre\")[\"Review Count\"].sum().plot.pie(autopct='%1.1f%%', startangle=90, colors=['#8dcfec','#235284','#46a2da','#58afdd','#3982b8']) \n",
    "plt.title(\"Review Count Distribution\")\n",
    "plt.ylabel('')  \n",
    "plt.show()\n"
   ]
  }
 ],
 "metadata": {
  "kernelspec": {
   "display_name": "Python 3 (ipykernel)",
   "language": "python",
   "name": "python3"
  },
  "language_info": {
   "codemirror_mode": {
    "name": "ipython",
    "version": 3
   },
   "file_extension": ".py",
   "mimetype": "text/x-python",
   "name": "python",
   "nbconvert_exporter": "python",
   "pygments_lexer": "ipython3",
   "version": "3.13.1"
  }
 },
 "nbformat": 4,
 "nbformat_minor": 4
}
