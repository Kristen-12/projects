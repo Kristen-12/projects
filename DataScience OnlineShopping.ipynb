{
 "cells": [
  {
   "cell_type": "markdown",
   "metadata": {},
   "source": [
    "1.\tData Cleaning and Preprocessing\n",
    "2.\tExploratory Data Analysis (EDA)\n",
    "3.\tSales Trend Analysis\n",
    "4.\tCustomer Segmentation\n",
    "5.\tProduct Recommendations\n",
    "6.\tPredictive Modeling (for future sales)\n",
    "Project Overview:\n",
    "We’ll use a simulated online shopping dataset, perform data cleaning, analysis, and build a predictive model. The goal is to identify trends, segment customers, predict future sales, and provide product recommendations.\n"
   ]
  },
  {
   "cell_type": "markdown",
   "metadata": {},
   "source": [
    "Step 1: Create Simulated Dataset\n",
    "We'll create a dataset that mimics typical e-commerce data, with sales transactions including customer ID, product details, price, quantity, timestamps, and more.\n"
   ]
  },
  {
   "cell_type": "code",
   "execution_count": 9,
   "metadata": {},
   "outputs": [
    {
     "data": {
      "text/html": [
       "<div>\n",
       "<style scoped>\n",
       "    .dataframe tbody tr th:only-of-type {\n",
       "        vertical-align: middle;\n",
       "    }\n",
       "\n",
       "    .dataframe tbody tr th {\n",
       "        vertical-align: top;\n",
       "    }\n",
       "\n",
       "    .dataframe thead th {\n",
       "        text-align: right;\n",
       "    }\n",
       "</style>\n",
       "<table border=\"1\" class=\"dataframe\">\n",
       "  <thead>\n",
       "    <tr style=\"text-align: right;\">\n",
       "      <th></th>\n",
       "      <th>CustomerID</th>\n",
       "      <th>Product</th>\n",
       "      <th>Quantity</th>\n",
       "      <th>Price</th>\n",
       "      <th>OrderDate</th>\n",
       "      <th>Stock</th>\n",
       "      <th>TotalPrice</th>\n",
       "      <th>Discount</th>\n",
       "      <th>Instock</th>\n",
       "      <th>Reorder</th>\n",
       "    </tr>\n",
       "  </thead>\n",
       "  <tbody>\n",
       "    <tr>\n",
       "      <th>0</th>\n",
       "      <td>1052</td>\n",
       "      <td>Laptop</td>\n",
       "      <td>1</td>\n",
       "      <td>1000</td>\n",
       "      <td>2024-09-16 19:14:36.970153</td>\n",
       "      <td>100</td>\n",
       "      <td>1000</td>\n",
       "      <td>800.0</td>\n",
       "      <td>99</td>\n",
       "      <td>False</td>\n",
       "    </tr>\n",
       "    <tr>\n",
       "      <th>1</th>\n",
       "      <td>1050</td>\n",
       "      <td>Camera</td>\n",
       "      <td>2</td>\n",
       "      <td>500</td>\n",
       "      <td>2024-12-14 19:14:36.970626</td>\n",
       "      <td>300</td>\n",
       "      <td>1000</td>\n",
       "      <td>800.0</td>\n",
       "      <td>298</td>\n",
       "      <td>False</td>\n",
       "    </tr>\n",
       "    <tr>\n",
       "      <th>2</th>\n",
       "      <td>1048</td>\n",
       "      <td>Camera</td>\n",
       "      <td>2</td>\n",
       "      <td>500</td>\n",
       "      <td>2024-11-21 19:14:36.970637</td>\n",
       "      <td>300</td>\n",
       "      <td>1000</td>\n",
       "      <td>800.0</td>\n",
       "      <td>298</td>\n",
       "      <td>False</td>\n",
       "    </tr>\n",
       "    <tr>\n",
       "      <th>3</th>\n",
       "      <td>1039</td>\n",
       "      <td>Laptop</td>\n",
       "      <td>2</td>\n",
       "      <td>1000</td>\n",
       "      <td>2025-01-13 19:14:36.970640</td>\n",
       "      <td>100</td>\n",
       "      <td>2000</td>\n",
       "      <td>1600.0</td>\n",
       "      <td>98</td>\n",
       "      <td>False</td>\n",
       "    </tr>\n",
       "    <tr>\n",
       "      <th>4</th>\n",
       "      <td>1014</td>\n",
       "      <td>Smartwatch</td>\n",
       "      <td>1</td>\n",
       "      <td>200</td>\n",
       "      <td>2024-12-16 19:14:36.970642</td>\n",
       "      <td>150</td>\n",
       "      <td>200</td>\n",
       "      <td>160.0</td>\n",
       "      <td>149</td>\n",
       "      <td>False</td>\n",
       "    </tr>\n",
       "  </tbody>\n",
       "</table>\n",
       "</div>"
      ],
      "text/plain": [
       "   CustomerID     Product  Quantity  Price                  OrderDate  Stock  \\\n",
       "0        1052      Laptop         1   1000 2024-09-16 19:14:36.970153    100   \n",
       "1        1050      Camera         2    500 2024-12-14 19:14:36.970626    300   \n",
       "2        1048      Camera         2    500 2024-11-21 19:14:36.970637    300   \n",
       "3        1039      Laptop         2   1000 2025-01-13 19:14:36.970640    100   \n",
       "4        1014  Smartwatch         1    200 2024-12-16 19:14:36.970642    150   \n",
       "\n",
       "   TotalPrice  Discount  Instock  Reorder  \n",
       "0        1000     800.0       99    False  \n",
       "1        1000     800.0      298    False  \n",
       "2        1000     800.0      298    False  \n",
       "3        2000    1600.0       98    False  \n",
       "4         200     160.0      149    False  "
      ]
     },
     "execution_count": 9,
     "metadata": {},
     "output_type": "execute_result"
    }
   ],
   "source": [
    "import numpy as np\n",
    "import pandas as pd\n",
    "import random\n",
    "from datetime import datetime, timedelta\n",
    "import matplotlib as plt\n",
    "# Simulating e-commerce transaction data\n",
    "\n",
    "np.random.seed(42)\n",
    "\n",
    "customers = np.random.randint(1000, 1100, 5000)\n",
    "products = ['Laptop', 'Smartphone', 'Headphones', 'Tablet', 'Camera', 'Smartwatch', 'Monitor']\n",
    "product_prices = {\n",
    "    'Laptop': 1000,\n",
    "    'Smartphone': 800,\n",
    "    'Headphones': 150,\n",
    "    'Tablet': 300,\n",
    "    'Camera': 500,\n",
    "    'Smartwatch': 200,\n",
    "    'Monitor': 350\n",
    "}\n",
    "stock = {\n",
    "    'Laptop' : 100,\n",
    "    'Smartphone' : 150,\n",
    "    'Headphones' : 50,\n",
    "    'Tablet' : 200,\n",
    "    'Camera' : 300,\n",
    "    'Smartwatch' : 150,\n",
    "    'Monitor' : 300\n",
    "} \n",
    "\n",
    "\n",
    "product_choices = np.random.choice(products, 5000)\n",
    "data = {\n",
    "    'CustomerID': np.random.choice(customers, 5000),\n",
    "    'Product': product_choices,\n",
    "\n",
    "    'Quantity': np.random.randint(1, 3, 5000),\n",
    "    \n",
    "    'Price': [product_prices[prod] for prod in product_choices],\n",
    "\n",
    "    'OrderDate': [datetime.now() - timedelta(days=random.randint(0, 180)) for _ in range(5000)],\n",
    "    'Stock' : [stock[prod] for prod in product_choices],\n",
    "\n",
    "}\n",
    "\n",
    "# Creating DataFrame\n",
    "df = pd.DataFrame(data)\n",
    "\n",
    "#df['Price'] = product_prices[df['Product']]\n",
    "df['TotalPrice'] = df['Quantity'] * df['Price']\n",
    "\n",
    "df['Discount'] = df['TotalPrice'] - df['TotalPrice']*0.2\n",
    "df['Instock'] = df['Stock'] - df['Quantity']\n",
    "df['Reorder'] = df['Instock'] < (df['Stock'] * 0.3)\n",
    "df.head()\n",
    "#print(product_prices['Camera'])"
   ]
  },
  {
   "cell_type": "markdown",
   "metadata": {},
   "source": [
    "Step 2: Data Cleaning and Preprocessing\n",
    "1.\tCheck for missing values, duplicate rows, and invalid data.\n",
    "2.\tConvert date column to a proper datetime type.\n",
    "3.\tEnsure numeric columns are appropriate.\n"
   ]
  },
  {
   "cell_type": "code",
   "execution_count": 10,
   "metadata": {},
   "outputs": [
    {
     "name": "stdout",
     "output_type": "stream",
     "text": [
      "CustomerID    0\n",
      "Product       0\n",
      "Quantity      0\n",
      "Price         0\n",
      "OrderDate     0\n",
      "Stock         0\n",
      "TotalPrice    0\n",
      "Discount      0\n",
      "Instock       0\n",
      "Reorder       0\n",
      "dtype: int64\n"
     ]
    },
    {
     "data": {
      "text/html": [
       "<div>\n",
       "<style scoped>\n",
       "    .dataframe tbody tr th:only-of-type {\n",
       "        vertical-align: middle;\n",
       "    }\n",
       "\n",
       "    .dataframe tbody tr th {\n",
       "        vertical-align: top;\n",
       "    }\n",
       "\n",
       "    .dataframe thead th {\n",
       "        text-align: right;\n",
       "    }\n",
       "</style>\n",
       "<table border=\"1\" class=\"dataframe\">\n",
       "  <thead>\n",
       "    <tr style=\"text-align: right;\">\n",
       "      <th></th>\n",
       "      <th>CustomerID</th>\n",
       "      <th>Product</th>\n",
       "      <th>Quantity</th>\n",
       "      <th>Price</th>\n",
       "      <th>OrderDate</th>\n",
       "      <th>Stock</th>\n",
       "      <th>TotalPrice</th>\n",
       "      <th>Discount</th>\n",
       "      <th>Instock</th>\n",
       "      <th>Reorder</th>\n",
       "    </tr>\n",
       "  </thead>\n",
       "  <tbody>\n",
       "    <tr>\n",
       "      <th>0</th>\n",
       "      <td>1052</td>\n",
       "      <td>Laptop</td>\n",
       "      <td>1</td>\n",
       "      <td>1000</td>\n",
       "      <td>2024-09-16 19:14:36.970153</td>\n",
       "      <td>100</td>\n",
       "      <td>1000</td>\n",
       "      <td>800.0</td>\n",
       "      <td>99</td>\n",
       "      <td>False</td>\n",
       "    </tr>\n",
       "    <tr>\n",
       "      <th>1</th>\n",
       "      <td>1050</td>\n",
       "      <td>Camera</td>\n",
       "      <td>2</td>\n",
       "      <td>500</td>\n",
       "      <td>2024-12-14 19:14:36.970626</td>\n",
       "      <td>300</td>\n",
       "      <td>1000</td>\n",
       "      <td>800.0</td>\n",
       "      <td>298</td>\n",
       "      <td>False</td>\n",
       "    </tr>\n",
       "    <tr>\n",
       "      <th>2</th>\n",
       "      <td>1048</td>\n",
       "      <td>Camera</td>\n",
       "      <td>2</td>\n",
       "      <td>500</td>\n",
       "      <td>2024-11-21 19:14:36.970637</td>\n",
       "      <td>300</td>\n",
       "      <td>1000</td>\n",
       "      <td>800.0</td>\n",
       "      <td>298</td>\n",
       "      <td>False</td>\n",
       "    </tr>\n",
       "    <tr>\n",
       "      <th>3</th>\n",
       "      <td>1039</td>\n",
       "      <td>Laptop</td>\n",
       "      <td>2</td>\n",
       "      <td>1000</td>\n",
       "      <td>2025-01-13 19:14:36.970640</td>\n",
       "      <td>100</td>\n",
       "      <td>2000</td>\n",
       "      <td>1600.0</td>\n",
       "      <td>98</td>\n",
       "      <td>False</td>\n",
       "    </tr>\n",
       "    <tr>\n",
       "      <th>4</th>\n",
       "      <td>1014</td>\n",
       "      <td>Smartwatch</td>\n",
       "      <td>1</td>\n",
       "      <td>200</td>\n",
       "      <td>2024-12-16 19:14:36.970642</td>\n",
       "      <td>150</td>\n",
       "      <td>200</td>\n",
       "      <td>160.0</td>\n",
       "      <td>149</td>\n",
       "      <td>False</td>\n",
       "    </tr>\n",
       "  </tbody>\n",
       "</table>\n",
       "</div>"
      ],
      "text/plain": [
       "   CustomerID     Product  Quantity  Price                  OrderDate  Stock  \\\n",
       "0        1052      Laptop         1   1000 2024-09-16 19:14:36.970153    100   \n",
       "1        1050      Camera         2    500 2024-12-14 19:14:36.970626    300   \n",
       "2        1048      Camera         2    500 2024-11-21 19:14:36.970637    300   \n",
       "3        1039      Laptop         2   1000 2025-01-13 19:14:36.970640    100   \n",
       "4        1014  Smartwatch         1    200 2024-12-16 19:14:36.970642    150   \n",
       "\n",
       "   TotalPrice  Discount  Instock  Reorder  \n",
       "0        1000     800.0       99    False  \n",
       "1        1000     800.0      298    False  \n",
       "2        1000     800.0      298    False  \n",
       "3        2000    1600.0       98    False  \n",
       "4         200     160.0      149    False  "
      ]
     },
     "execution_count": 10,
     "metadata": {},
     "output_type": "execute_result"
    }
   ],
   "source": [
    "# Check for missing values\n",
    "print(df.isnull().sum())\n",
    "\n",
    "# Remove duplicate rows\n",
    "df.drop_duplicates(inplace=True)\n",
    "\n",
    "# Ensure OrderDate is in datetime format\n",
    "df['OrderDate'] = pd.to_datetime(df['OrderDate'])\n",
    "\n",
    "# Removing any rows where price or quantity is invalid\n",
    "df = df[df['Price'] > 0]\n",
    "df = df[df['Quantity'] > 0]\n",
    "\n",
    "# Inspect the first few rows after cleaning\n",
    "df.head()\n"
   ]
  },
  {
   "cell_type": "markdown",
   "metadata": {},
   "source": [
    "Step 3: Exploratory Data Analysis (EDA)\n",
    "3.1: Summary Statistics\n",
    "Generate summary statistics for numerical columns.\n"
   ]
  },
  {
   "cell_type": "code",
   "execution_count": 11,
   "metadata": {},
   "outputs": [
    {
     "name": "stdout",
     "output_type": "stream",
     "text": [
      "        CustomerID     Quantity        Price                      OrderDate  \\\n",
      "count  5000.000000  5000.000000  5000.000000                           5000   \n",
      "mean   1048.805600     1.502000   473.070000  2024-10-31 15:47:15.376498432   \n",
      "min    1000.000000     1.000000   150.000000     2024-08-02 19:14:36.971116   \n",
      "25%    1024.000000     1.000000   200.000000  2024-09-16 19:14:36.981746176   \n",
      "50%    1048.000000     2.000000   350.000000  2024-10-31 19:14:36.971508992   \n",
      "75%    1073.000000     2.000000   800.000000  2024-12-15 19:14:36.972585728   \n",
      "max    1099.000000     2.000000  1000.000000     2025-01-29 19:14:36.983182   \n",
      "std      28.838185     0.500046   292.190606                            NaN   \n",
      "\n",
      "             Stock   TotalPrice     Discount      Instock  \n",
      "count  5000.000000  5000.000000  5000.000000  5000.000000  \n",
      "mean    180.710000   711.030000   568.824000   179.208000  \n",
      "min      50.000000   150.000000   120.000000    48.000000  \n",
      "25%     100.000000   300.000000   240.000000    99.000000  \n",
      "50%     150.000000   600.000000   480.000000   149.000000  \n",
      "75%     300.000000  1000.000000   800.000000   298.000000  \n",
      "max     300.000000  2000.000000  1600.000000   299.000000  \n",
      "std      88.090566   523.105694   418.484555    88.105342  \n"
     ]
    }
   ],
   "source": [
    "# Summary statistics\n",
    "print(df.describe())\n",
    "\n"
   ]
  },
  {
   "cell_type": "markdown",
   "metadata": {},
   "source": [
    "3.2: Total Revenue by Product\n",
    "We'll calculate the total revenue per product.\n"
   ]
  },
  {
   "cell_type": "code",
   "execution_count": 18,
   "metadata": {},
   "outputs": [
    {
     "name": "stdout",
     "output_type": "stream",
     "text": [
      "Product\n",
      "Laptop        1000\n",
      "Smartphone     800\n",
      "Camera         500\n",
      "Monitor        350\n",
      "Tablet         300\n",
      "Smartwatch     200\n",
      "Headphones     150\n",
      "Name: Price, dtype: int64\n"
     ]
    },
    {
     "data": {
      "text/plain": [
       "<Axes: title={'center': 'Revenue by Product'}, xlabel='Product', ylabel='Revenue ($)'>"
      ]
     },
     "execution_count": 18,
     "metadata": {},
     "output_type": "execute_result"
    },
    {
     "data": {
      "image/png": "[encoded data removed]",
      "text/plain": [
       "<Figure size 1000x600 with 1 Axes>"
      ]
     },
     "metadata": {},
     "output_type": "display_data"
    }
   ],
   "source": [
    "revenue_by_product = df.groupby('Product')['Price'].max().sort_values(ascending=False)\n",
    "print(revenue_by_product)\n",
    "\n",
    "# Visualize total revenue by product\n",
    "revenue_by_product.plot(kind='bar', title=\"Revenue by Product\", xlabel=\"Product\", ylabel=\"Revenue ($)\", figsize=(10, 6))\n",
    "#plt.show()\n"
   ]
  },
  {
   "cell_type": "markdown",
   "metadata": {},
   "source": [
    "3.3: Sales Over Time (Monthly)\n",
    "Visualizing sales trends over the months.\n"
   ]
  },
  {
   "cell_type": "code",
   "execution_count": 9,
   "metadata": {},
   "outputs": [
    {
     "data": {
      "text/plain": [
       "<Axes: title={'center': 'Sales Over Time'}, xlabel='Month', ylabel='Total Sales ($)'>"
      ]
     },
     "execution_count": 9,
     "metadata": {},
     "output_type": "execute_result"
    },
    {
     "data": {
      "image/png": "[encoded data removed]",
      "text/plain": [
       "<Figure size 1000x600 with 1 Axes>"
      ]
     },
     "metadata": {},
     "output_type": "display_data"
    }
   ],
   "source": [
    "df['Month'] = df['OrderDate'].dt.month\n",
    "monthly_sales = df.groupby('Month')['TotalPrice'].sum()\n",
    "\n",
    "# Plot monthly sales\n",
    "monthly_sales.plot(kind='line', title=\"Sales Over Time\", xlabel=\"Month\", ylabel=\"Total Sales ($)\", figsize=(10, 6))\n",
    "#plt.show()\n"
   ]
  },
  {
   "cell_type": "markdown",
   "metadata": {},
   "source": [
    "3.4: Top Customers by Total Spending\n",
    "Identify top-spending customers.\n"
   ]
  },
  {
   "cell_type": "code",
   "execution_count": 23,
   "metadata": {},
   "outputs": [
    {
     "name": "stdout",
     "output_type": "stream",
     "text": [
      "CustomerID\n",
      "1030    15600\n",
      "1079    17800\n",
      "1070    20100\n",
      "1017    20100\n",
      "1093    21550\n",
      "1039    21850\n",
      "1027    22000\n",
      "1090    22150\n",
      "1075    22300\n",
      "1042    23400\n",
      "Name: TotalPrice, dtype: int64\n"
     ]
    },
    {
     "data": {
      "text/plain": [
       "<Axes: title={'center': 'Top 10 Customers by Spending'}, xlabel='Customer ID', ylabel='Total Spending ($)'>"
      ]
     },
     "execution_count": 23,
     "metadata": {},
     "output_type": "execute_result"
    },
    {
     "data": {
      "image/png": "[encoded data removed]",
      "text/plain": [
       "<Figure size 1000x600 with 1 Axes>"
      ]
     },
     "metadata": {},
     "output_type": "display_data"
    }
   ],
   "source": [
    "top_customers = df.groupby('CustomerID')['TotalPrice'].sum().sort_values(ascending=True).head(10)\n",
    "print(top_customers)\n",
    "\n",
    "# Visualize top customers by total spending\n",
    "top_customers.plot(kind='bar', title=\"Top 10 Customers by Spending\", xlabel=\"Customer ID\", ylabel=\"Total Spending ($)\", figsize=(10, 6))\n",
    "#plt.show()\n"
   ]
  },
  {
   "cell_type": "markdown",
   "metadata": {},
   "source": [
    "Step 4: Customer Segmentation (Clustering)\n",
    "We'll perform customer segmentation to group customers based on their purchase behavior.\n",
    "1.\tFeature Engineering: Aggregate purchases for each customer.\n",
    "2.\tClustering: Apply K-means clustering.\n"
   ]
  },
  {
   "cell_type": "code",
   "execution_count": 8,
   "metadata": {},
   "outputs": [
    {
     "ename": "ModuleNotFoundError",
     "evalue": "No module named 'sklearn'",
     "output_type": "error",
     "traceback": [
      "\u001b[1;31m---------------------------------------------------------------------------\u001b[0m",
      "\u001b[1;31mModuleNotFoundError\u001b[0m                       Traceback (most recent call last)",
      "Cell \u001b[1;32mIn[8], line 1\u001b[0m\n\u001b[1;32m----> 1\u001b[0m \u001b[38;5;28;01mfrom\u001b[39;00m\u001b[38;5;250m \u001b[39m\u001b[38;5;21;01msklearn\u001b[39;00m\u001b[38;5;21;01m.\u001b[39;00m\u001b[38;5;21;01mcluster\u001b[39;00m\u001b[38;5;250m \u001b[39m\u001b[38;5;28;01mimport\u001b[39;00m KMeans\n\u001b[0;32m      2\u001b[0m \u001b[38;5;28;01mfrom\u001b[39;00m\u001b[38;5;250m \u001b[39m\u001b[38;5;21;01msklearn\u001b[39;00m\u001b[38;5;21;01m.\u001b[39;00m\u001b[38;5;21;01mpreprocessing\u001b[39;00m\u001b[38;5;250m \u001b[39m\u001b[38;5;28;01mimport\u001b[39;00m StandardScaler\n\u001b[0;32m      4\u001b[0m \u001b[38;5;66;03m# Aggregate data by CustomerID (Total purchases, average spending, etc.)\u001b[39;00m\n",
      "\u001b[1;31mModuleNotFoundError\u001b[0m: No module named 'sklearn'"
     ]
    }
   ],
   "source": [
    "from sklearn.cluster import KMeans\n",
    "from sklearn.preprocessing import StandardScaler\n",
    "\n",
    "# Aggregate data by CustomerID (Total purchases, average spending, etc.)\n",
    "customer_summary = df.groupby('CustomerID').agg(\n",
    "    total_spent=('TotalPrice', 'sum'),\n",
    "    purchase_count=('TotalPrice', 'count'),\n",
    "    avg_order_value=('TotalPrice', 'mean')\n",
    ").reset_index()\n",
    "\n",
    "# Feature scaling\n",
    "scaler = StandardScaler()\n",
    "customer_summary_scaled = scaler.fit_transform(customer_summary[['total_spent', 'purchase_count', 'avg_order_value']])\n",
    "\n",
    "# Apply KMeans clustering\n",
    "kmeans = KMeans(n_clusters=4, random_state=42)\n",
    "customer_summary['Cluster'] = kmeans.fit_predict(customer_summary_scaled)\n",
    "\n",
    "# Visualizing the clusters\n",
    "import seaborn as sns\n",
    "\n",
    "sns.scatterplot(data=customer_summary, x='total_spent', y='avg_order_value', hue='Cluster', palette='viridis')\n",
    "plt.title(\"Customer Segments\")\n",
    "plt.xlabel(\"Total Spend ($)\")\n",
    "plt.ylabel(\"Average Order Value ($)\")\n",
    "plt.show()\n"
   ]
  },
  {
   "cell_type": "markdown",
   "metadata": {},
   "source": [
    "Step 5: Predictive Modeling (Sales Forecasting)\n",
    "We can build a simple time series model to predict future sales using ARIMA or Linear Regression.\n",
    "1.\tFeature Engineering: We need to create time-based features (e.g., month, year).\n",
    "2.\tModeling: Use a time series model to predict future sales.\n"
   ]
  },
  {
   "cell_type": "code",
   "execution_count": null,
   "metadata": {},
   "outputs": [],
   "source": [
    "import statsmodels.api as sm\n",
    "\n",
    "# Prepare the data: aggregate sales by month\n",
    "df['YearMonth'] = df['OrderDate'].dt.to_period('M')\n",
    "monthly_sales = df.groupby('YearMonth')['TotalPrice'].sum()\n",
    "\n",
    "# Convert monthly sales to a time series\n",
    "monthly_sales = monthly_sales.asfreq('M')\n",
    "\n",
    "# Apply ARIMA (AutoRegressive Integrated Moving Average)\n",
    "model = sm.tsa.ARIMA(monthly_sales, order=(5,1,0))\n",
    "model_fit = model.fit()\n",
    "\n",
    "# Forecast future sales\n",
    "forecast = model_fit.forecast(steps=6)\n",
    "\n",
    "# Plot the forecast\n",
    "plt.plot(monthly_sales.index, monthly_sales, label='Historical Sales')\n",
    "plt.plot(pd.date_range(monthly_sales.index[-1], periods=7, freq='M')[1:], forecast, label='Forecast', color='red')\n",
    "plt.title('Sales Forecast')\n",
    "plt.xlabel('Date')\n",
    "plt.ylabel('Total Sales ($)')\n",
    "plt.legend()\n",
    "plt.show()\n"
   ]
  },
  {
   "cell_type": "markdown",
   "metadata": {},
   "source": [
    "Step 6: Product Recommendations\n",
    "We can build a simple product recommendation system using a collaborative filtering approach (user-item interactions).\n",
    "For simplicity, let’s use a content-based approach (recommend based on purchase history).\n"
   ]
  },
  {
   "cell_type": "code",
   "execution_count": 11,
   "metadata": {},
   "outputs": [
    {
     "name": "stdout",
     "output_type": "stream",
     "text": [
      "Recommended Products for Customer 1001: []\n"
     ]
    }
   ],
   "source": [
    "# Create a customer-product matrix\n",
    "customer_product_matrix = pd.pivot_table(df, index='CustomerID', columns='Product', values='TotalPrice', aggfunc='sum', fill_value=0)\n",
    "\n",
    "# Example: recommend products to a specific customer (CustomerID=1001)\n",
    "customer_id = 1001\n",
    "purchased_products = customer_product_matrix.loc[customer_id]\n",
    "\n",
    "# Recommend products not purchased by the customer\n",
    "recommended_products = purchased_products[purchased_products == 0].sort_values(ascending=False).head(5)\n",
    "print(\"Recommended Products for Customer 1001:\", recommended_products.index.tolist())\n"
   ]
  },
  {
   "cell_type": "markdown",
   "metadata": {},
   "source": [
    "Step 7: Conclusion and Insights\n",
    "At the end of this project, you would have:\n",
    "•\tAnalyzing total sales by product.\n",
    "•\tIdentifying sales trends over time (monthly or yearly).\n",
    "•\tSegmenting customers based on their purchase behaviors.\n",
    "•\tForecasting future sales with time-series analysis.\n",
    "•\tGenerating product recommendations based on customer behavior.\n"
   ]
  }
 ],
 "metadata": {
  "kernelspec": {
   "display_name": "Python 3",
   "language": "python",
   "name": "python3"
  },
  "language_info": {
   "codemirror_mode": {
    "name": "ipython",
    "version": 3
   },
   "file_extension": ".py",
   "mimetype": "text/x-python",
   "name": "python",
   "nbconvert_exporter": "python",
   "pygments_lexer": "ipython3",
   "version": "3.13.1"
  }
 },
 "nbformat": 4,
 "nbformat_minor": 2
}
